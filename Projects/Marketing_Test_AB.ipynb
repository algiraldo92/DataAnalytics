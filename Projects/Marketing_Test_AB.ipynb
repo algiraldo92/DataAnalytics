{
 "cells": [
  {
   "cell_type": "markdown",
   "id": "af9741c9",
   "metadata": {},
   "source": [
    "#### Proyecto\n",
    "\n",
    "Como analista de datos en una gran tienda online, en colaboracion con el departamento de marketing se necesita identificar y priorizar una serie de hipótesis orientadas a aumentar los ingresos. El objetivo principal de este proyecto es validar científicamente la efectividad de los cambios propuestos mediante la ejecución de una prueba A/B controlada. El foco esta en determinar si las modificaciones implementadas en el grupo de tratamiento (Grupo B) generaban una mejora significativa en las métricas clave de negocio, como los ingresos acumulados, el tamaño promedio de pedido y la tasa de conversión, en comparación con el grupo de control (Grupo A).\n",
    "\n"
   ]
  },
  {
   "cell_type": "code",
   "execution_count": 1,
   "id": "e1dd6464",
   "metadata": {},
   "outputs": [],
   "source": [
    "import pandas as pd\n",
    "import numpy as np\n",
    "import datetime as dt\n",
    "from matplotlib import pyplot as plt\n",
    "from scipy import stats as st\n",
    "import seaborn as sns"
   ]
  },
  {
   "cell_type": "code",
   "execution_count": 2,
   "id": "4f2589f6",
   "metadata": {},
   "outputs": [],
   "source": [
    "# Se corrige el data set de hypothesis ya que se encontraba separado por ';'\n",
    "hypotheses= pd.read_csv('hypotheses_us.csv', sep=';')\n",
    "orders= pd.read_csv('orders_us.csv')\n",
    "visits= pd.read_csv('visits_us.csv')"
   ]
  },
  {
   "cell_type": "code",
   "execution_count": 3,
   "id": "1bea6090",
   "metadata": {},
   "outputs": [
    {
     "name": "stdout",
     "output_type": "stream",
     "text": [
      " Total de datos duplicados: 0\n",
      " Total de datos nulos: \n",
      "Hypothesis    0\n",
      "Reach         0\n",
      "Impact        0\n",
      "Confidence    0\n",
      "Effort        0\n",
      "dtype: int64\n",
      "<class 'pandas.core.frame.DataFrame'>\n",
      "RangeIndex: 9 entries, 0 to 8\n",
      "Data columns (total 5 columns):\n",
      " #   Column      Non-Null Count  Dtype \n",
      "---  ------      --------------  ----- \n",
      " 0   hypothesis  9 non-null      object\n",
      " 1   reach       9 non-null      int64 \n",
      " 2   impact      9 non-null      int64 \n",
      " 3   confidence  9 non-null      int64 \n",
      " 4   effort      9 non-null      int64 \n",
      "dtypes: int64(4), object(1)\n",
      "memory usage: 492.0+ bytes\n"
     ]
    }
   ],
   "source": [
    "# vamos a verificar los sets de datos \n",
    "print(f' Total de datos duplicados: {hypotheses.duplicated().sum()}')\n",
    "print(f' Total de datos nulos: \\n{hypotheses.isnull().sum()}')\n",
    "\n",
    "new_columns_names=[]\n",
    "\n",
    "for row in hypotheses.columns:\n",
    "    new_name= row.lower().strip()\n",
    "    new_columns_names.append(new_name)\n",
    "\n",
    "hypotheses.columns= new_columns_names\n",
    "\n",
    "hypotheses.info()"
   ]
  },
  {
   "cell_type": "code",
   "execution_count": 4,
   "id": "5acac6ae",
   "metadata": {},
   "outputs": [
    {
     "name": "stdout",
     "output_type": "stream",
     "text": [
      " Total de datos duplicados: 0\n",
      " Total de datos nulos: \n",
      "transactionId    0\n",
      "visitorId        0\n",
      "date             0\n",
      "revenue          0\n",
      "group            0\n",
      "dtype: int64\n",
      "<class 'pandas.core.frame.DataFrame'>\n",
      "RangeIndex: 1197 entries, 0 to 1196\n",
      "Data columns (total 5 columns):\n",
      " #   Column         Non-Null Count  Dtype  \n",
      "---  ------         --------------  -----  \n",
      " 0   transactionId  1197 non-null   int64  \n",
      " 1   visitorId      1197 non-null   int64  \n",
      " 2   date           1197 non-null   object \n",
      " 3   revenue        1197 non-null   float64\n",
      " 4   group          1197 non-null   object \n",
      "dtypes: float64(1), int64(2), object(2)\n",
      "memory usage: 46.9+ KB\n"
     ]
    }
   ],
   "source": [
    "print(f' Total de datos duplicados: {orders.duplicated().sum()}')\n",
    "print(f' Total de datos nulos: \\n{orders.isnull().sum()}')\n",
    "orders.info()"
   ]
  },
  {
   "cell_type": "code",
   "execution_count": 5,
   "id": "17201bef",
   "metadata": {},
   "outputs": [
    {
     "name": "stdout",
     "output_type": "stream",
     "text": [
      "<class 'pandas.core.frame.DataFrame'>\n",
      "RangeIndex: 1197 entries, 0 to 1196\n",
      "Data columns (total 5 columns):\n",
      " #   Column         Non-Null Count  Dtype         \n",
      "---  ------         --------------  -----         \n",
      " 0   transactionId  1197 non-null   int64         \n",
      " 1   visitorId      1197 non-null   int64         \n",
      " 2   date           1197 non-null   datetime64[ns]\n",
      " 3   revenue        1197 non-null   float64       \n",
      " 4   group          1197 non-null   object        \n",
      "dtypes: datetime64[ns](1), float64(1), int64(2), object(1)\n",
      "memory usage: 46.9+ KB\n"
     ]
    },
    {
     "data": {
      "text/html": [
       "<div>\n",
       "<style scoped>\n",
       "    .dataframe tbody tr th:only-of-type {\n",
       "        vertical-align: middle;\n",
       "    }\n",
       "\n",
       "    .dataframe tbody tr th {\n",
       "        vertical-align: top;\n",
       "    }\n",
       "\n",
       "    .dataframe thead th {\n",
       "        text-align: right;\n",
       "    }\n",
       "</style>\n",
       "<table border=\"1\" class=\"dataframe\">\n",
       "  <thead>\n",
       "    <tr style=\"text-align: right;\">\n",
       "      <th></th>\n",
       "      <th>transactionId</th>\n",
       "      <th>visitorId</th>\n",
       "      <th>date</th>\n",
       "      <th>revenue</th>\n",
       "      <th>group</th>\n",
       "    </tr>\n",
       "  </thead>\n",
       "  <tbody>\n",
       "    <tr>\n",
       "      <th>0</th>\n",
       "      <td>3667963787</td>\n",
       "      <td>3312258926</td>\n",
       "      <td>2019-08-15</td>\n",
       "      <td>30.4</td>\n",
       "      <td>B</td>\n",
       "    </tr>\n",
       "    <tr>\n",
       "      <th>1</th>\n",
       "      <td>2804400009</td>\n",
       "      <td>3642806036</td>\n",
       "      <td>2019-08-15</td>\n",
       "      <td>15.2</td>\n",
       "      <td>B</td>\n",
       "    </tr>\n",
       "    <tr>\n",
       "      <th>2</th>\n",
       "      <td>2961555356</td>\n",
       "      <td>4069496402</td>\n",
       "      <td>2019-08-15</td>\n",
       "      <td>10.2</td>\n",
       "      <td>A</td>\n",
       "    </tr>\n",
       "    <tr>\n",
       "      <th>3</th>\n",
       "      <td>3797467345</td>\n",
       "      <td>1196621759</td>\n",
       "      <td>2019-08-15</td>\n",
       "      <td>155.1</td>\n",
       "      <td>B</td>\n",
       "    </tr>\n",
       "    <tr>\n",
       "      <th>4</th>\n",
       "      <td>2282983706</td>\n",
       "      <td>2322279887</td>\n",
       "      <td>2019-08-15</td>\n",
       "      <td>40.5</td>\n",
       "      <td>B</td>\n",
       "    </tr>\n",
       "  </tbody>\n",
       "</table>\n",
       "</div>"
      ],
      "text/plain": [
       "   transactionId   visitorId       date  revenue group\n",
       "0     3667963787  3312258926 2019-08-15     30.4     B\n",
       "1     2804400009  3642806036 2019-08-15     15.2     B\n",
       "2     2961555356  4069496402 2019-08-15     10.2     A\n",
       "3     3797467345  1196621759 2019-08-15    155.1     B\n",
       "4     2282983706  2322279887 2019-08-15     40.5     B"
      ]
     },
     "execution_count": 5,
     "metadata": {},
     "output_type": "execute_result"
    }
   ],
   "source": [
    "# Ajustamos las fechas a un tipo de dato apropiado\n",
    "\n",
    "orders['date']= pd.to_datetime(orders['date'])\n",
    "\n",
    "orders.info()\n",
    "orders.head()"
   ]
  },
  {
   "cell_type": "code",
   "execution_count": 6,
   "id": "59a23c35",
   "metadata": {},
   "outputs": [
    {
     "name": "stdout",
     "output_type": "stream",
     "text": [
      " Total de datos duplicados: 0\n",
      " Total de datos nulos: \n",
      "date      0\n",
      "group     0\n",
      "visits    0\n",
      "dtype: int64\n",
      "<class 'pandas.core.frame.DataFrame'>\n",
      "RangeIndex: 62 entries, 0 to 61\n",
      "Data columns (total 3 columns):\n",
      " #   Column  Non-Null Count  Dtype \n",
      "---  ------  --------------  ----- \n",
      " 0   date    62 non-null     object\n",
      " 1   group   62 non-null     object\n",
      " 2   visits  62 non-null     int64 \n",
      "dtypes: int64(1), object(2)\n",
      "memory usage: 1.6+ KB\n"
     ]
    }
   ],
   "source": [
    "print(f' Total de datos duplicados: {visits.duplicated().sum()}')\n",
    "print(f' Total de datos nulos: \\n{visits.isnull().sum()}')\n",
    "visits.info()"
   ]
  },
  {
   "cell_type": "code",
   "execution_count": 7,
   "id": "2a5e7354",
   "metadata": {},
   "outputs": [
    {
     "name": "stdout",
     "output_type": "stream",
     "text": [
      "<class 'pandas.core.frame.DataFrame'>\n",
      "RangeIndex: 62 entries, 0 to 61\n",
      "Data columns (total 3 columns):\n",
      " #   Column  Non-Null Count  Dtype         \n",
      "---  ------  --------------  -----         \n",
      " 0   date    62 non-null     datetime64[ns]\n",
      " 1   group   62 non-null     object        \n",
      " 2   visits  62 non-null     int64         \n",
      "dtypes: datetime64[ns](1), int64(1), object(1)\n",
      "memory usage: 1.6+ KB\n"
     ]
    },
    {
     "data": {
      "text/html": [
       "<div>\n",
       "<style scoped>\n",
       "    .dataframe tbody tr th:only-of-type {\n",
       "        vertical-align: middle;\n",
       "    }\n",
       "\n",
       "    .dataframe tbody tr th {\n",
       "        vertical-align: top;\n",
       "    }\n",
       "\n",
       "    .dataframe thead th {\n",
       "        text-align: right;\n",
       "    }\n",
       "</style>\n",
       "<table border=\"1\" class=\"dataframe\">\n",
       "  <thead>\n",
       "    <tr style=\"text-align: right;\">\n",
       "      <th></th>\n",
       "      <th>date</th>\n",
       "      <th>group</th>\n",
       "      <th>visits</th>\n",
       "    </tr>\n",
       "  </thead>\n",
       "  <tbody>\n",
       "    <tr>\n",
       "      <th>0</th>\n",
       "      <td>2019-08-01</td>\n",
       "      <td>A</td>\n",
       "      <td>719</td>\n",
       "    </tr>\n",
       "    <tr>\n",
       "      <th>1</th>\n",
       "      <td>2019-08-02</td>\n",
       "      <td>A</td>\n",
       "      <td>619</td>\n",
       "    </tr>\n",
       "    <tr>\n",
       "      <th>2</th>\n",
       "      <td>2019-08-03</td>\n",
       "      <td>A</td>\n",
       "      <td>507</td>\n",
       "    </tr>\n",
       "    <tr>\n",
       "      <th>3</th>\n",
       "      <td>2019-08-04</td>\n",
       "      <td>A</td>\n",
       "      <td>717</td>\n",
       "    </tr>\n",
       "    <tr>\n",
       "      <th>4</th>\n",
       "      <td>2019-08-05</td>\n",
       "      <td>A</td>\n",
       "      <td>756</td>\n",
       "    </tr>\n",
       "  </tbody>\n",
       "</table>\n",
       "</div>"
      ],
      "text/plain": [
       "        date group  visits\n",
       "0 2019-08-01     A     719\n",
       "1 2019-08-02     A     619\n",
       "2 2019-08-03     A     507\n",
       "3 2019-08-04     A     717\n",
       "4 2019-08-05     A     756"
      ]
     },
     "execution_count": 7,
     "metadata": {},
     "output_type": "execute_result"
    }
   ],
   "source": [
    "# Ajustamos las fechas a un tipo de dato apropiado\n",
    "\n",
    "visits['date']= pd.to_datetime(visits['date'])\n",
    "\n",
    "visits.info()\n",
    "visits.head()"
   ]
  },
  {
   "cell_type": "markdown",
   "id": "33eb4d70",
   "metadata": {},
   "source": [
    "Como pudimos observar a diferencia del set de la hipotesis el cual el data set estaba separado por ';' tambien se modificaron los nombres de columnas en minusculas para mayor comodidad en el manejo de los datos, igualmente se ajustaron los tipos de datos a uno mas apropiado como las fechas, adicional a esto los datos no presentan ninguna anomalia, podemos hacer uso de los datos para su analisis"
   ]
  },
  {
   "cell_type": "markdown",
   "id": "afe2d680",
   "metadata": {},
   "source": [
    "### Parte 1. Priorizar hipótesis"
   ]
  },
  {
   "cell_type": "code",
   "execution_count": 8,
   "id": "c50506bd",
   "metadata": {},
   "outputs": [
    {
     "data": {
      "text/html": [
       "<div>\n",
       "<style scoped>\n",
       "    .dataframe tbody tr th:only-of-type {\n",
       "        vertical-align: middle;\n",
       "    }\n",
       "\n",
       "    .dataframe tbody tr th {\n",
       "        vertical-align: top;\n",
       "    }\n",
       "\n",
       "    .dataframe thead th {\n",
       "        text-align: right;\n",
       "    }\n",
       "</style>\n",
       "<table border=\"1\" class=\"dataframe\">\n",
       "  <thead>\n",
       "    <tr style=\"text-align: right;\">\n",
       "      <th></th>\n",
       "      <th>hypothesis</th>\n",
       "      <th>reach</th>\n",
       "      <th>impact</th>\n",
       "      <th>confidence</th>\n",
       "      <th>effort</th>\n",
       "      <th>ICE</th>\n",
       "    </tr>\n",
       "  </thead>\n",
       "  <tbody>\n",
       "    <tr>\n",
       "      <th>8</th>\n",
       "      <td>Launch a promotion that gives users discounts ...</td>\n",
       "      <td>1</td>\n",
       "      <td>9</td>\n",
       "      <td>9</td>\n",
       "      <td>5</td>\n",
       "      <td>16.200000</td>\n",
       "    </tr>\n",
       "    <tr>\n",
       "      <th>0</th>\n",
       "      <td>Add two new channels for attracting traffic. T...</td>\n",
       "      <td>3</td>\n",
       "      <td>10</td>\n",
       "      <td>8</td>\n",
       "      <td>6</td>\n",
       "      <td>13.333333</td>\n",
       "    </tr>\n",
       "    <tr>\n",
       "      <th>7</th>\n",
       "      <td>Add a subscription form to all the main pages....</td>\n",
       "      <td>10</td>\n",
       "      <td>7</td>\n",
       "      <td>8</td>\n",
       "      <td>5</td>\n",
       "      <td>11.200000</td>\n",
       "    </tr>\n",
       "    <tr>\n",
       "      <th>6</th>\n",
       "      <td>Show banners with current offers and sales on ...</td>\n",
       "      <td>5</td>\n",
       "      <td>3</td>\n",
       "      <td>8</td>\n",
       "      <td>3</td>\n",
       "      <td>8.000000</td>\n",
       "    </tr>\n",
       "    <tr>\n",
       "      <th>2</th>\n",
       "      <td>Add product recommendation blocks to the store...</td>\n",
       "      <td>8</td>\n",
       "      <td>3</td>\n",
       "      <td>7</td>\n",
       "      <td>3</td>\n",
       "      <td>7.000000</td>\n",
       "    </tr>\n",
       "    <tr>\n",
       "      <th>1</th>\n",
       "      <td>Launch your own delivery service. This will sh...</td>\n",
       "      <td>2</td>\n",
       "      <td>5</td>\n",
       "      <td>4</td>\n",
       "      <td>10</td>\n",
       "      <td>2.000000</td>\n",
       "    </tr>\n",
       "    <tr>\n",
       "      <th>5</th>\n",
       "      <td>Add a customer review page. This will increase...</td>\n",
       "      <td>3</td>\n",
       "      <td>2</td>\n",
       "      <td>2</td>\n",
       "      <td>3</td>\n",
       "      <td>1.333333</td>\n",
       "    </tr>\n",
       "    <tr>\n",
       "      <th>3</th>\n",
       "      <td>Change the category structure. This will incre...</td>\n",
       "      <td>8</td>\n",
       "      <td>3</td>\n",
       "      <td>3</td>\n",
       "      <td>8</td>\n",
       "      <td>1.125000</td>\n",
       "    </tr>\n",
       "    <tr>\n",
       "      <th>4</th>\n",
       "      <td>Change the background color on the main page. ...</td>\n",
       "      <td>3</td>\n",
       "      <td>1</td>\n",
       "      <td>1</td>\n",
       "      <td>1</td>\n",
       "      <td>1.000000</td>\n",
       "    </tr>\n",
       "  </tbody>\n",
       "</table>\n",
       "</div>"
      ],
      "text/plain": [
       "                                          hypothesis  reach  impact  \\\n",
       "8  Launch a promotion that gives users discounts ...      1       9   \n",
       "0  Add two new channels for attracting traffic. T...      3      10   \n",
       "7  Add a subscription form to all the main pages....     10       7   \n",
       "6  Show banners with current offers and sales on ...      5       3   \n",
       "2  Add product recommendation blocks to the store...      8       3   \n",
       "1  Launch your own delivery service. This will sh...      2       5   \n",
       "5  Add a customer review page. This will increase...      3       2   \n",
       "3  Change the category structure. This will incre...      8       3   \n",
       "4  Change the background color on the main page. ...      3       1   \n",
       "\n",
       "   confidence  effort        ICE  \n",
       "8           9       5  16.200000  \n",
       "0           8       6  13.333333  \n",
       "7           8       5  11.200000  \n",
       "6           8       3   8.000000  \n",
       "2           7       3   7.000000  \n",
       "1           4      10   2.000000  \n",
       "5           2       3   1.333333  \n",
       "3           3       8   1.125000  \n",
       "4           1       1   1.000000  "
      ]
     },
     "execution_count": 8,
     "metadata": {},
     "output_type": "execute_result"
    }
   ],
   "source": [
    "# Aplicar el metodo para encontrar prioridad de las hypotesis metdo ICE\n",
    "\n",
    "hypotheses['ICE'] =  (hypotheses['impact']*hypotheses['confidence'])/ hypotheses['effort']\n",
    "hypotheses.sort_values(by='ICE', ascending= False)"
   ]
  },
  {
   "cell_type": "code",
   "execution_count": 9,
   "id": "0f00cb76",
   "metadata": {},
   "outputs": [
    {
     "data": {
      "text/html": [
       "<div>\n",
       "<style scoped>\n",
       "    .dataframe tbody tr th:only-of-type {\n",
       "        vertical-align: middle;\n",
       "    }\n",
       "\n",
       "    .dataframe tbody tr th {\n",
       "        vertical-align: top;\n",
       "    }\n",
       "\n",
       "    .dataframe thead th {\n",
       "        text-align: right;\n",
       "    }\n",
       "</style>\n",
       "<table border=\"1\" class=\"dataframe\">\n",
       "  <thead>\n",
       "    <tr style=\"text-align: right;\">\n",
       "      <th></th>\n",
       "      <th>hypothesis</th>\n",
       "      <th>reach</th>\n",
       "      <th>impact</th>\n",
       "      <th>confidence</th>\n",
       "      <th>effort</th>\n",
       "      <th>ICE</th>\n",
       "      <th>RICE</th>\n",
       "    </tr>\n",
       "  </thead>\n",
       "  <tbody>\n",
       "    <tr>\n",
       "      <th>7</th>\n",
       "      <td>Add a subscription form to all the main pages....</td>\n",
       "      <td>10</td>\n",
       "      <td>7</td>\n",
       "      <td>8</td>\n",
       "      <td>5</td>\n",
       "      <td>11.200000</td>\n",
       "      <td>112.0</td>\n",
       "    </tr>\n",
       "    <tr>\n",
       "      <th>2</th>\n",
       "      <td>Add product recommendation blocks to the store...</td>\n",
       "      <td>8</td>\n",
       "      <td>3</td>\n",
       "      <td>7</td>\n",
       "      <td>3</td>\n",
       "      <td>7.000000</td>\n",
       "      <td>56.0</td>\n",
       "    </tr>\n",
       "    <tr>\n",
       "      <th>0</th>\n",
       "      <td>Add two new channels for attracting traffic. T...</td>\n",
       "      <td>3</td>\n",
       "      <td>10</td>\n",
       "      <td>8</td>\n",
       "      <td>6</td>\n",
       "      <td>13.333333</td>\n",
       "      <td>40.0</td>\n",
       "    </tr>\n",
       "    <tr>\n",
       "      <th>6</th>\n",
       "      <td>Show banners with current offers and sales on ...</td>\n",
       "      <td>5</td>\n",
       "      <td>3</td>\n",
       "      <td>8</td>\n",
       "      <td>3</td>\n",
       "      <td>8.000000</td>\n",
       "      <td>40.0</td>\n",
       "    </tr>\n",
       "    <tr>\n",
       "      <th>8</th>\n",
       "      <td>Launch a promotion that gives users discounts ...</td>\n",
       "      <td>1</td>\n",
       "      <td>9</td>\n",
       "      <td>9</td>\n",
       "      <td>5</td>\n",
       "      <td>16.200000</td>\n",
       "      <td>16.2</td>\n",
       "    </tr>\n",
       "    <tr>\n",
       "      <th>3</th>\n",
       "      <td>Change the category structure. This will incre...</td>\n",
       "      <td>8</td>\n",
       "      <td>3</td>\n",
       "      <td>3</td>\n",
       "      <td>8</td>\n",
       "      <td>1.125000</td>\n",
       "      <td>9.0</td>\n",
       "    </tr>\n",
       "    <tr>\n",
       "      <th>1</th>\n",
       "      <td>Launch your own delivery service. This will sh...</td>\n",
       "      <td>2</td>\n",
       "      <td>5</td>\n",
       "      <td>4</td>\n",
       "      <td>10</td>\n",
       "      <td>2.000000</td>\n",
       "      <td>4.0</td>\n",
       "    </tr>\n",
       "    <tr>\n",
       "      <th>5</th>\n",
       "      <td>Add a customer review page. This will increase...</td>\n",
       "      <td>3</td>\n",
       "      <td>2</td>\n",
       "      <td>2</td>\n",
       "      <td>3</td>\n",
       "      <td>1.333333</td>\n",
       "      <td>4.0</td>\n",
       "    </tr>\n",
       "    <tr>\n",
       "      <th>4</th>\n",
       "      <td>Change the background color on the main page. ...</td>\n",
       "      <td>3</td>\n",
       "      <td>1</td>\n",
       "      <td>1</td>\n",
       "      <td>1</td>\n",
       "      <td>1.000000</td>\n",
       "      <td>3.0</td>\n",
       "    </tr>\n",
       "  </tbody>\n",
       "</table>\n",
       "</div>"
      ],
      "text/plain": [
       "                                          hypothesis  reach  impact  \\\n",
       "7  Add a subscription form to all the main pages....     10       7   \n",
       "2  Add product recommendation blocks to the store...      8       3   \n",
       "0  Add two new channels for attracting traffic. T...      3      10   \n",
       "6  Show banners with current offers and sales on ...      5       3   \n",
       "8  Launch a promotion that gives users discounts ...      1       9   \n",
       "3  Change the category structure. This will incre...      8       3   \n",
       "1  Launch your own delivery service. This will sh...      2       5   \n",
       "5  Add a customer review page. This will increase...      3       2   \n",
       "4  Change the background color on the main page. ...      3       1   \n",
       "\n",
       "   confidence  effort        ICE   RICE  \n",
       "7           8       5  11.200000  112.0  \n",
       "2           7       3   7.000000   56.0  \n",
       "0           8       6  13.333333   40.0  \n",
       "6           8       3   8.000000   40.0  \n",
       "8           9       5  16.200000   16.2  \n",
       "3           3       8   1.125000    9.0  \n",
       "1           4      10   2.000000    4.0  \n",
       "5           2       3   1.333333    4.0  \n",
       "4           1       1   1.000000    3.0  "
      ]
     },
     "execution_count": 9,
     "metadata": {},
     "output_type": "execute_result"
    }
   ],
   "source": [
    "# Aplicar el metodo para encontrar prioridad de las hypotesis metdo RICE \n",
    "\n",
    "hypotheses['RICE'] =  (hypotheses['reach']* hypotheses['impact']* hypotheses['confidence'])/ hypotheses['effort']\n",
    "hypotheses.sort_values(by='RICE', ascending= False)"
   ]
  },
  {
   "cell_type": "markdown",
   "id": "ce7c08d6",
   "metadata": {},
   "source": [
    "Como podemos observar los cambios en las prioridades usando los metodos ICE y RICE son bastante considerables y esto es debido a la variable del alcance, pues bien al agregar esta, podemos decir que las prioridades varian en pro de la cantidad de usuarios que puede llegar a  impactar  "
   ]
  },
  {
   "cell_type": "markdown",
   "id": "5ca8d5e2",
   "metadata": {},
   "source": [
    "### Parte 2. Análisis del test A/B"
   ]
  },
  {
   "cell_type": "markdown",
   "id": "c56a04af",
   "metadata": {},
   "source": [
    "#### Representa gráficamente el ingreso acumulado por grupo. Haz conclusiones y conjeturas.\n"
   ]
  },
  {
   "cell_type": "code",
   "execution_count": 10,
   "id": "70104268",
   "metadata": {},
   "outputs": [
    {
     "data": {
      "text/html": [
       "<div>\n",
       "<style scoped>\n",
       "    .dataframe tbody tr th:only-of-type {\n",
       "        vertical-align: middle;\n",
       "    }\n",
       "\n",
       "    .dataframe tbody tr th {\n",
       "        vertical-align: top;\n",
       "    }\n",
       "\n",
       "    .dataframe thead th {\n",
       "        text-align: right;\n",
       "    }\n",
       "</style>\n",
       "<table border=\"1\" class=\"dataframe\">\n",
       "  <thead>\n",
       "    <tr style=\"text-align: right;\">\n",
       "      <th></th>\n",
       "      <th>date</th>\n",
       "      <th>group</th>\n",
       "      <th>orders</th>\n",
       "      <th>buyers</th>\n",
       "      <th>revenue</th>\n",
       "      <th>visits</th>\n",
       "    </tr>\n",
       "  </thead>\n",
       "  <tbody>\n",
       "    <tr>\n",
       "      <th>0</th>\n",
       "      <td>2019-08-01</td>\n",
       "      <td>A</td>\n",
       "      <td>24</td>\n",
       "      <td>20</td>\n",
       "      <td>2356.8</td>\n",
       "      <td>719</td>\n",
       "    </tr>\n",
       "    <tr>\n",
       "      <th>1</th>\n",
       "      <td>2019-08-01</td>\n",
       "      <td>B</td>\n",
       "      <td>21</td>\n",
       "      <td>20</td>\n",
       "      <td>1620.0</td>\n",
       "      <td>713</td>\n",
       "    </tr>\n",
       "    <tr>\n",
       "      <th>2</th>\n",
       "      <td>2019-08-02</td>\n",
       "      <td>A</td>\n",
       "      <td>44</td>\n",
       "      <td>38</td>\n",
       "      <td>3860.3</td>\n",
       "      <td>1338</td>\n",
       "    </tr>\n",
       "    <tr>\n",
       "      <th>3</th>\n",
       "      <td>2019-08-02</td>\n",
       "      <td>B</td>\n",
       "      <td>45</td>\n",
       "      <td>43</td>\n",
       "      <td>4243.8</td>\n",
       "      <td>1294</td>\n",
       "    </tr>\n",
       "    <tr>\n",
       "      <th>4</th>\n",
       "      <td>2019-08-03</td>\n",
       "      <td>A</td>\n",
       "      <td>68</td>\n",
       "      <td>62</td>\n",
       "      <td>5675.5</td>\n",
       "      <td>1845</td>\n",
       "    </tr>\n",
       "  </tbody>\n",
       "</table>\n",
       "</div>"
      ],
      "text/plain": [
       "        date group  orders  buyers  revenue  visits\n",
       "0 2019-08-01     A      24      20   2356.8     719\n",
       "1 2019-08-01     B      21      20   1620.0     713\n",
       "2 2019-08-02     A      44      38   3860.3    1338\n",
       "3 2019-08-02     B      45      43   4243.8    1294\n",
       "4 2019-08-03     A      68      62   5675.5    1845"
      ]
     },
     "execution_count": 10,
     "metadata": {},
     "output_type": "execute_result"
    }
   ],
   "source": [
    "\n",
    "datesGroups= orders[['date','group']].drop_duplicates()\n",
    "\n",
    "ordersAgregated= datesGroups.apply(lambda x:orders[\n",
    "    np.logical_and(orders['date'] <= x['date'], orders['group']== x['group'])].agg(\n",
    "        {'date':'max',\n",
    "         'group':'max',\n",
    "         'transactionId': pd.Series.nunique,\n",
    "         'visitorId': pd.Series.nunique,\n",
    "         'revenue':'sum'}),\n",
    "    axis=1).sort_values(by=['date','group'])\n",
    "\n",
    "\n",
    "visitorsAggregated= datesGroups.apply(lambda x:visits[\n",
    "    np.logical_and(visits['date'] <= x['date'], visits['group']== x['group'])].agg(\n",
    "        {'date':'max',\n",
    "         'group':'max',\n",
    "         'visits':'sum'}),\n",
    "    axis=1).sort_values(by=['date','group'])\n",
    "\n",
    "\n",
    "cumulativeData= ordersAgregated.merge(visitorsAggregated, left_on=['date','group'], right_on=['date','group'])\n",
    "\n",
    "cumulativeData.columns=['date','group','orders','buyers','revenue','visits']\n",
    "\n",
    "cumulativeData.head()"
   ]
  },
  {
   "cell_type": "code",
   "execution_count": 11,
   "id": "7042c959",
   "metadata": {},
   "outputs": [
    {
     "data": {
      "image/png": "[encoded data removed]",
      "text/plain": [
       "<Figure size 640x480 with 1 Axes>"
      ]
     },
     "metadata": {},
     "output_type": "display_data"
    }
   ],
   "source": [
    "cumulativeRevenueA= cumulativeData[cumulativeData['group']=='A'][['date', 'revenue', 'orders']]\n",
    "\n",
    "cumulativeRevenueB= cumulativeData[cumulativeData['group']=='B'][['date', 'revenue', 'orders']]\n",
    "\n",
    "sns.lineplot(x=cumulativeRevenueA['date'], y=cumulativeRevenueA['revenue'], label='A')\n",
    "sns.lineplot(x=cumulativeRevenueB['date'], y=cumulativeRevenueB['revenue'], label='B')\n",
    "plt.legend()\n",
    "plt.xticks(rotation=45)\n",
    "plt.show()"
   ]
  },
  {
   "cell_type": "markdown",
   "id": "e5635a7c",
   "metadata": {},
   "source": [
    "Como se puede observar el ingreso acumulado en ambos grupos estuvo constante hasta cierto punto, sin embargo las personas del grupo B tuvieron un aumento considerable despues de del 08-17"
   ]
  },
  {
   "cell_type": "markdown",
   "id": "10fc582a",
   "metadata": {},
   "source": [
    "#### Representa gráficamente el tamaño de pedido promedio acumulado por grupo. Haz conclusiones y conjeturas.\n"
   ]
  },
  {
   "cell_type": "code",
   "execution_count": 12,
   "id": "29cdf697",
   "metadata": {},
   "outputs": [
    {
     "data": {
      "image/png": "[encoded data removed]",
      "text/plain": [
       "<Figure size 640x480 with 1 Axes>"
      ]
     },
     "metadata": {},
     "output_type": "display_data"
    }
   ],
   "source": [
    "\n",
    "plt.plot(cumulativeRevenueA['date'], cumulativeRevenueA['revenue']/cumulativeRevenueA['orders'], label='A')\n",
    "plt.plot(cumulativeRevenueB['date'], cumulativeRevenueB['revenue']/cumulativeRevenueB['orders'], label='B')\n",
    "plt.legend()\n",
    "plt.xticks(rotation=45)\n",
    "plt.show()"
   ]
  },
  {
   "cell_type": "markdown",
   "id": "a1fde4b1",
   "metadata": {},
   "source": [
    "El valor acumulado de la cantidad de compras promedio de los dos grupos fluctua a lo largo de la prueba, sin embargo a la mitad vemos que el promedio de compras aumento de gran medida para el grupo B y luego tuvo un ligero decremento, podriamos sospechar que tenemos valores atipicos que distorcionan los resultados. "
   ]
  },
  {
   "cell_type": "markdown",
   "id": "da92b106",
   "metadata": {},
   "source": [
    "#### Representa gráficamente la diferencia relativa en el tamaño de pedido promedio acumulado para el grupo B en comparación con el grupo A. Haz conclusiones y conjeturas.\n"
   ]
  },
  {
   "cell_type": "code",
   "execution_count": 13,
   "id": "e1b151e8",
   "metadata": {},
   "outputs": [
    {
     "data": {
      "image/png": "[encoded data removed]",
      "text/plain": [
       "<Figure size 640x480 with 1 Axes>"
      ]
     },
     "metadata": {},
     "output_type": "display_data"
    }
   ],
   "source": [
    "\n",
    "mergedCumulativeRevenue= cumulativeRevenueA.merge(cumulativeRevenueB,left_on='date', right_on='date', how='left', suffixes=['A','B'])\n",
    "\n",
    "plt.plot(mergedCumulativeRevenue['date'],\n",
    "        (mergedCumulativeRevenue['revenueB']/mergedCumulativeRevenue['ordersB'])/ (mergedCumulativeRevenue['revenueA']/mergedCumulativeRevenue['ordersA'])-1)\n",
    "plt.axhline(y=0, color='black', linestyle='--')\n",
    "plt.xticks(rotation=45)\n",
    "plt.show()"
   ]
  },
  {
   "cell_type": "markdown",
   "id": "c2303091",
   "metadata": {},
   "source": [
    "podemos ver que en general el tamano de compra del grupo B es mayor, y al igual que los graficos anteriores vemos que hubo un aumento considerable a mitad de la prueba. "
   ]
  },
  {
   "cell_type": "markdown",
   "id": "e28ab07b",
   "metadata": {},
   "source": [
    "#### Calcula la tasa de conversión de cada grupo como la relación entre los pedidos y el número de visitas de cada día. Representa gráficamente las tasas de conversión diarias de los dos grupos y describe la diferencia. Saca conclusiones y haz conjeturas.\n"
   ]
  },
  {
   "cell_type": "code",
   "execution_count": 14,
   "id": "efcf0286",
   "metadata": {},
   "outputs": [
    {
     "data": {
      "image/png": "[encoded data removed]",
      "text/plain": [
       "<Figure size 640x480 with 1 Axes>"
      ]
     },
     "metadata": {},
     "output_type": "display_data"
    }
   ],
   "source": [
    "\n",
    "# calcular la conversion acumulada\n",
    "cumulativeData['conversion']= cumulativeData['orders']/cumulativeData['visits']\n",
    "\n",
    "# Seleccionar datos del grupo A\n",
    "cumulativeDataA= cumulativeData[cumulativeData['group']=='A']\n",
    "\n",
    "# Seleccionar datos del grupo A\n",
    "cumulativeDataB= cumulativeData[cumulativeData['group']=='B']\n",
    "\n",
    "plt.plot(cumulativeDataA['date'], cumulativeDataA['conversion'], label= 'A')\n",
    "plt.plot(cumulativeDataB['date'], cumulativeDataB['conversion'], label= 'B')\n",
    "plt.legend()\n",
    "plt.xticks(rotation=45)\n",
    "plt.show()\n"
   ]
  },
  {
   "cell_type": "markdown",
   "id": "0ff50617",
   "metadata": {},
   "source": [
    "si bien el grupo A inicio con una tasa de conversion mas alta, a lo largo del experimento podemos ver que va disminuyendo mientras que el B va tomando ventaja y al final vemos que ambos grupos se estabilizan un poco."
   ]
  },
  {
   "cell_type": "markdown",
   "id": "6bd52876",
   "metadata": {},
   "source": [
    "#### Traza un gráfico de dispersión del número de pedidos por usuario. Haz conclusiones y conjeturas."
   ]
  },
  {
   "cell_type": "code",
   "execution_count": 15,
   "id": "3520b8a3",
   "metadata": {},
   "outputs": [
    {
     "data": {
      "image/png": "[encoded data removed]",
      "text/plain": [
       "<Figure size 640x480 with 1 Axes>"
      ]
     },
     "metadata": {},
     "output_type": "display_data"
    }
   ],
   "source": [
    "\n",
    "# primero debemos encontrar el numero de pedidos por usuario\n",
    "orderByUsers= orders.groupby('visitorId', as_index=False).agg({'transactionId':pd.Series.nunique})\n",
    "orderByUsers.columns=['userId','orders']\n",
    "\n",
    "x_values= pd.Series(range(0,len(orderByUsers)))\n",
    "plt.scatter(x_values, orderByUsers['orders'])\n",
    "plt.show()"
   ]
  },
  {
   "cell_type": "markdown",
   "id": "c7c75dbf",
   "metadata": {},
   "source": [
    "Como nos indica el grafico son predominantes las ordenes con un solo pedido, son muy pocos los usuarios con mas de dos pedidos, para determinar si dos pedidos tienen un porcentaje mas alto vamos a probar con los percentiles. "
   ]
  },
  {
   "cell_type": "markdown",
   "id": "107f9223",
   "metadata": {},
   "source": [
    "## Calcula los percentiles 95 y 99 del número de pedidos por usuario. Define el punto en el cual un punto de datos se convierte en una anomalía."
   ]
  },
  {
   "cell_type": "code",
   "execution_count": 16,
   "id": "c7ddda84",
   "metadata": {},
   "outputs": [
    {
     "name": "stdout",
     "output_type": "stream",
     "text": [
      "Percentiles 90/95/99: [1. 2. 4.]\n"
     ]
    }
   ],
   "source": [
    "percentile = np.percentile(orderByUsers['orders'],[90,95,99])\n",
    "print('Percentiles 90/95/99:', percentile)"
   ]
  },
  {
   "cell_type": "markdown",
   "id": "09a887b5",
   "metadata": {},
   "source": [
    "No mas del 5% de los usuarios realizaron mas de 2 pedidos, confirmamos lo que suponiamos en el grafico anterior son muy pocos los usuarios con mas de 2 productos y no mas del 1% realizaron mas de 4 pedidos "
   ]
  },
  {
   "cell_type": "markdown",
   "id": "3e39a0fc",
   "metadata": {},
   "source": [
    "#### Traza un gráfico de dispersión de los precios de los pedidos. Haz conclusiones y conjeturas."
   ]
  },
  {
   "cell_type": "code",
   "execution_count": 17,
   "id": "e59cccc3",
   "metadata": {},
   "outputs": [
    {
     "data": {
      "image/png": "[encoded data removed]",
      "text/plain": [
       "<Figure size 640x480 with 1 Axes>"
      ]
     },
     "metadata": {},
     "output_type": "display_data"
    }
   ],
   "source": [
    "\n",
    "x_values= pd.Series(range(0,len(orders['revenue'])))\n",
    "plt.scatter(x_values,orders['revenue'])\n",
    "plt.show()"
   ]
  },
  {
   "cell_type": "markdown",
   "id": "7e4be036",
   "metadata": {},
   "source": [
    "El grafico nos muestra que la cantidad de pedidos se maneja por un rango menor a los 2500, sin embargo si se pueden observar un par de datos atipicos como lo son comrpas cercanas a los 20 mil, lo comprobaremos con los percentiles."
   ]
  },
  {
   "cell_type": "markdown",
   "id": "645f9f87",
   "metadata": {},
   "source": [
    "#### Calcula los percentiles 95 y 99 de los precios de los pedidos. Define el punto en el cual un punto de datos se convierte en una anomalía."
   ]
  },
  {
   "cell_type": "code",
   "execution_count": 18,
   "id": "9d335bb5",
   "metadata": {},
   "outputs": [
    {
     "name": "stdout",
     "output_type": "stream",
     "text": [
      "Percentiles 90/95/99: [282.48  435.54  900.904]\n"
     ]
    }
   ],
   "source": [
    "percentiles= np.percentile(orders['revenue'],[90,95,99])\n",
    "print('Percentiles 90/95/99:', percentiles)"
   ]
  },
  {
   "cell_type": "markdown",
   "id": "334757ef",
   "metadata": {},
   "source": [
    "Podemos ver que no mas del 1% de los usuarios hizo compras mayores 900 e incluso no mas del 5% hicieron compras superiores a 435, con esto podemos estimar que nuestra anomalia en los datos se encuentra con los pedidos superiores a 435 dolares. "
   ]
  },
  {
   "cell_type": "markdown",
   "id": "97c465ba",
   "metadata": {},
   "source": [
    "#### Encuentra la significancia estadística de la diferencia en la conversión entre los grupos utilizando los datos en bruto."
   ]
  },
  {
   "cell_type": "code",
   "execution_count": 19,
   "id": "87556790",
   "metadata": {},
   "outputs": [
    {
     "name": "stdout",
     "output_type": "stream",
     "text": [
      "0.016792355056752608\n",
      "Hipotesis nula rechazada: No hay diferencia en las distribuciones \n",
      "0.138\n"
     ]
    }
   ],
   "source": [
    "orderByUsersA= orders[orders['group']=='A'].groupby('visitorId', as_index=False).agg({'transactionId':pd.Series.nunique})\n",
    "orderByUsersA.columns=['userId','orders']\n",
    "\n",
    "orderByUsersB= orders[orders['group']=='B'].groupby('visitorId', as_index=False).agg({'transactionId':pd.Series.nunique})\n",
    "orderByUsersB.columns=['userId','orders']\n",
    "\n",
    "sampleA= pd.concat([orderByUsersA['orders'],pd.Series(0, index=np.arange(visits[visits['group']=='A']['visits'].sum()-len(orderByUsersA['orders'])),name='orders')])\n",
    "\n",
    "sampleB= pd.concat([orderByUsersB['orders'],pd.Series(0, index=np.arange(visits[visits['group']==\"B\"]['visits'].sum()-len(orderByUsersB['orders'])),name='orders')])\n",
    "\n",
    "results= st.mannwhitneyu(sampleA, sampleB)\n",
    "\n",
    "alpha = 0.05\n",
    "print(results.pvalue)\n",
    "if (results.pvalue < alpha):\n",
    "    print('Hipotesis nula rechazada: No hay diferencia en las distribuciones ')\n",
    "else:\n",
    "    print('No se rechaza la hipotesis nula: Hay diferencia en las distribuciones')\n",
    "\n",
    "print('{0:.3f}'. format(sampleB.mean()/sampleA.mean()-1))"
   ]
  },
  {
   "cell_type": "code",
   "execution_count": 37,
   "id": "7d80d1c7",
   "metadata": {},
   "outputs": [
    {
     "data": {
      "text/plain": [
       "0        1\n",
       "1        1\n",
       "2        1\n",
       "3        1\n",
       "4        1\n",
       "        ..\n",
       "18228    0\n",
       "18229    0\n",
       "18230    0\n",
       "18231    0\n",
       "18232    0\n",
       "Name: orders, Length: 18736, dtype: int64"
      ]
     },
     "execution_count": 37,
     "metadata": {},
     "output_type": "execute_result"
    }
   ],
   "source": [
    "sampleA"
   ]
  },
  {
   "cell_type": "markdown",
   "id": "73e902e0",
   "metadata": {},
   "source": [
    "Se rechaza la hipotesis nula ya que podemos ver una diferencia entre las distribuciones con una diferencia a favor del grupo B con un 13.8 % "
   ]
  },
  {
   "cell_type": "markdown",
   "id": "6f4bf010",
   "metadata": {},
   "source": [
    "#### Encuentra la significancia estadística de la diferencia en el tamaño promedio de pedido entre los grupos utilizando los datos en bruto."
   ]
  },
  {
   "cell_type": "code",
   "execution_count": 20,
   "id": "77731cb8",
   "metadata": {},
   "outputs": [
    {
     "name": "stdout",
     "output_type": "stream",
     "text": [
      "0.016792355056752608\n",
      "No se rechaza la hipotesis nula: Hay diferencia de tamano promedio\n",
      "0.252\n"
     ]
    }
   ],
   "source": [
    "\n",
    "results2= st.mannwhitneyu(orders[orders['group']=='A']['revenue'], orders[orders['group']=='B']['revenue'])\n",
    "alpha = 0.05\n",
    "print(results.pvalue)\n",
    "if (results2.pvalue < alpha):\n",
    "    print('Hipotesis nula rechazada: No hay diferencia de tamano promedio')\n",
    "else:\n",
    "    print('No se rechaza la hipotesis nula: Hay diferencia de tamano promedio')\n",
    "\n",
    "print('{0:.3f}'. format(orders[orders['group']=='B']['revenue'].mean()/ orders[orders['group']=='A']['revenue'].mean()-1))"
   ]
  },
  {
   "cell_type": "markdown",
   "id": "431bb782",
   "metadata": {},
   "source": [
    "El test de Mann-Whitney U confirma que la diferencia en el revenue no es aleatoria\n",
    "El valor p es ligeramente mayor que el resultado por lo tanto podemos decir que hay diferencia estadisticamente significativa entre ambos grupos.\n",
    "El grupo B tiene un tamaño promedio de pedido un 25.2% mayor que el grupo A."
   ]
  },
  {
   "cell_type": "markdown",
   "id": "f9ce707a",
   "metadata": {},
   "source": [
    "#### Encuentra la significancia estadística de la diferencia en la conversión entre los grupos utilizando los datos filtrados. "
   ]
  },
  {
   "cell_type": "code",
   "execution_count": 21,
   "id": "7bd16845",
   "metadata": {},
   "outputs": [
    {
     "name": "stdout",
     "output_type": "stream",
     "text": [
      "1099    148427295\n",
      "18      199603092\n",
      "928     204675465\n",
      "23      237748145\n",
      "37      249864742\n",
      "dtype: int64\n",
      "(73,)\n"
     ]
    }
   ],
   "source": [
    "#primero vamos a determinar los pedidos anomalos como aquellos que realizan mas de 2 pedidos y compras superiores a 440.\n",
    "\n",
    "usersWithManyOrders= pd.concat([orderByUsersA[orderByUsersA['orders']>2]['userId'], orderByUsersB[orderByUsersB['orders']>2]['userId']], axis= 0)\n",
    "usersWithExpensiveOrders= orders[orders['revenue']> 440]['visitorId']\n",
    "\n",
    "# ahora unimos los usuarios que cumplen las condiciones \n",
    "\n",
    "abnormalUsers= pd.concat([usersWithManyOrders,usersWithExpensiveOrders], axis=0).drop_duplicates().sort_values()\n",
    "print(abnormalUsers.head(5))\n",
    "print(abnormalUsers.shape)\n"
   ]
  },
  {
   "cell_type": "code",
   "execution_count": null,
   "id": "5458d9df",
   "metadata": {},
   "outputs": [
    {
     "name": "stdout",
     "output_type": "stream",
     "text": [
      "0.01428436196480213\n",
      "Hipotesis nula rechazada: No hay diferencia en las distribuciones \n",
      "0.170\n"
     ]
    }
   ],
   "source": [
    "sampleAFiltered= pd.concat(\n",
    "    [orderByUsersA[np.logical_not(orderByUsersA['userId'].isin(abnormalUsers))]['orders'],\n",
    "    pd.Series(0, index=np.arange(visits[visits['group']=='A']['visits'].sum()- len(orderByUsersA['orders'])), name='orders')],axis= 0)\n",
    "\n",
    "sampleBFiltered= pd.concat(\n",
    "    [orderByUsersB[np.logical_not(orderByUsersB['userId'].isin(abnormalUsers))]['orders'],\n",
    "    pd.Series(0, index=np.arange(visits[visits['group']=='B']['visits'].sum()- len(orderByUsersB['orders'])), name='orders')],axis= 0)\n",
    "\n",
    "filterResults= st.mannwhitneyu(sampleAFiltered,sampleBFiltered)\n",
    "\n",
    "alpha = 0.05\n",
    "print(filterResults.pvalue)\n",
    "if (results.pvalue < alpha):\n",
    "    print('Hipotesis nula rechazada: No hay diferencia en las distribuciones')\n",
    "else:\n",
    "    print('No se rechaza la hipotesis nula: Hay diferencia en las distribuciones')\n",
    "\n",
    "print('{0:.3f}'. format(sampleBFiltered.mean()/sampleAFiltered.mean()-1))"
   ]
  },
  {
   "cell_type": "markdown",
   "id": "ada50831",
   "metadata": {},
   "source": [
    "Al igual que los datos sin filtar observamos que no hay diferencias de distribucion en ambos grupos y el grupo B tiene una diferencia a favor del 17%"
   ]
  },
  {
   "cell_type": "markdown",
   "id": "dbfc0b58",
   "metadata": {},
   "source": [
    "#### Encuentra la significancia estadística de la diferencia en el tamaño promedio de pedido entre los grupos utilizando los datos filtrados."
   ]
  },
  {
   "cell_type": "code",
   "execution_count": 23,
   "id": "d97aabe1",
   "metadata": {},
   "outputs": [
    {
     "name": "stdout",
     "output_type": "stream",
     "text": [
      "0.743836016813833\n",
      "No se rechaza la hipotesis nula: Hay diferencia en el tamano promedio\n"
     ]
    }
   ],
   "source": [
    "filterResults2= st.mannwhitneyu(\n",
    "    orders[np.logical_and(\n",
    "        orders['group']=='A',\n",
    "        np.logical_not(orders['visitorId'].isin(abnormalUsers)))]['revenue'],\n",
    "        orders[np.logical_and(\n",
    "        orders['group']=='B',\n",
    "        np.logical_not(orders['visitorId'].isin(abnormalUsers)))]['revenue'])#.pvalue # podemos finalizar con .pvalue para extraerlo o agregarlo al print\n",
    "\n",
    "alpha = 0.05\n",
    "print(filterResults2.pvalue)\n",
    "if (results2.pvalue < alpha):\n",
    "    print('Hipotesis nula rechazada: No hay diferencia en eltamano promedio ')\n",
    "else:\n",
    "    print('No se rechaza la hipotesis nula: Hay diferencia en el tamano promedio')\n"
   ]
  },
  {
   "cell_type": "code",
   "execution_count": 24,
   "id": "a3a0ca17",
   "metadata": {},
   "outputs": [
    {
     "name": "stdout",
     "output_type": "stream",
     "text": [
      "-0.028\n"
     ]
    }
   ],
   "source": [
    "print('{0:.3f}'.format(\n",
    "    orders[np.logical_and(orders['group']=='B',\n",
    "    np.logical_not(orders['visitorId'].isin(abnormalUsers)))]['revenue'].mean() /\n",
    "    orders[np.logical_and(orders['group']=='A',\n",
    "    np.logical_not(orders['visitorId'].isin(abnormalUsers)))]['revenue'].mean()-1))"
   ]
  },
  {
   "cell_type": "markdown",
   "id": "7156e6e1",
   "metadata": {},
   "source": [
    "Como podemos observar con el ajuste en elos datos el p valor aumento por ende la hipotesis nula no se rechaza.\n",
    "El grupo B tiene un tamaño promedio de pedido un 2.8% menor que el grupo A, pero esta diferencia no es estadísticamente significativa (p = 0.744)."
   ]
  },
  {
   "cell_type": "markdown",
   "id": "3c4ffd75",
   "metadata": {},
   "source": [
    "#### Toma una decisión basada en los resultados de la prueba. Las decisiones posibles son: 1. Parar la prueba, considerar a uno de los grupos como líder. 2. Parar la prueba, concluir que no hay diferencia entre los grupos. 3. Continuar la prueba.\n",
    "\n",
    "Como recomendacion se propone parar la prueba ya que se concluye que no hay diferencia entre ambos grupos.\n",
    "Si bien inicialmente se podia ver una diferencia y que el grupo B generaba un mayor porcentaje de ventas, al ajustar los datos sesgados que generaban ruido estadistico se concluye que no hay diferencia en ambos grupos.\n",
    "\n",
    "Impacto de los outliers:\n",
    "En los datos originales, el grupo B parecía tener un revenue mucho mayor (+25.2%), pero esto estaba inflado por usuarios anómalos.\n",
    "Al filtrarlos, la diferencia se reduce a -2.8%, y el valor p indica que esta pequeña variación podría deberse al azar.\n",
    "\n",
    "Conclusión sobre la prueba A/B:\n",
    "Sin filtro: Parecía que B era mejor (pero el resultado estaba sesgado).\n",
    "Con filtro: No hay diferencia real entre A y B."
   ]
  }
 ],
 "metadata": {
  "kernelspec": {
   "display_name": "3.12.10",
   "language": "python",
   "name": "python3"
  },
  "language_info": {
   "codemirror_mode": {
    "name": "ipython",
    "version": 3
   },
   "file_extension": ".py",
   "mimetype": "text/x-python",
   "name": "python",
   "nbconvert_exporter": "python",
   "pygments_lexer": "ipython3",
   "version": "3.12.10"
  }
 },
 "nbformat": 4,
 "nbformat_minor": 5
}
